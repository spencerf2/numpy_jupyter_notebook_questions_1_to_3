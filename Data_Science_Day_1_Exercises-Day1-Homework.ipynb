{
 "cells": [
  {
   "cell_type": "markdown",
   "metadata": {},
   "source": [
    "# Exercises"
   ]
  },
  {
   "cell_type": "markdown",
   "metadata": {},
   "source": [
    "### #1 - Calculate the BMI (body mass index) on the two lists below using NDArrays..."
   ]
  },
  {
   "cell_type": "code",
   "execution_count": 1,
   "metadata": {},
   "outputs": [
    {
     "name": "stdout",
     "output_type": "stream",
     "text": [
      "[16.86620458 17.87755102 18.82562984 19.71450617 20.54794521 21.32943755\n",
      " 22.06222222]\n"
     ]
    }
   ],
   "source": [
    "import numpy as np\n",
    "# formula = weight / (height**2) * 730\n",
    "height = [69, 70, 71, 72, 73, 74, 75]\n",
    "weight = [110, 120, 130, 140, 150, 160, 170]\n",
    "\n",
    "# OUTPUT: [16.86620458 17.87755102 18.82562984 19.71450617 20.54794521 21.32943755\n",
    "# 22.06222222]\n",
    "\n",
    "height_matrix = np.array(height)\n",
    "weight_matrix = np.array(weight)\n",
    "\n",
    "print(weight_matrix / (height_matrix**2) * 730)\n",
    "\n"
   ]
  },
  {
   "cell_type": "markdown",
   "metadata": {},
   "source": [
    "### #2 - Create a function that will take in two parameters and will create a random matrix based off of those parameters. Extra: Have additional parameters taken in that allow the user to choose the shape and data type of the matrix."
   ]
  },
  {
   "cell_type": "code",
   "execution_count": 22,
   "metadata": {},
   "outputs": [
    {
     "name": "stdout",
     "output_type": "stream",
     "text": [
      "[[74 83 92]\n",
      " [85 65 21]\n",
      " [ 7 27 42]]\n"
     ]
    }
   ],
   "source": [
    "\"\"\"\n",
    "Example Result\n",
    "array([[14.21633515,  7.98846653,  9.64140715],\n",
    "       [ 6.30982234,  9.96414331,  8.43153688],\n",
    "       [14.73102068, 11.76072894, 14.23356121]])\n",
    "\"\"\"\n",
    "def makeMatrix(low,high,shape,data_type = 'int32'):\n",
    "    if data_type == 'int32':\n",
    "        convert_to = np.int32\n",
    "    elif data_type == 'int64':\n",
    "        convert_to = np.int64\n",
    "    elif data_type == 'float32':\n",
    "        convert_to = np.float32\n",
    "    elif data_type == 'float64':\n",
    "        convert_to = np.float64\n",
    "    \n",
    "    return np.random.uniform(low, high, shape).astype(convert_to)\n",
    "\n",
    "print(makeMatrix(2, 100, (3,3), 'int32'))"
   ]
  },
  {
   "cell_type": "markdown",
   "metadata": {},
   "source": [
    "### #3 - Extra: Open and load the data in the two text files that have the Boston Red Sox hitting data for the past seasons. Compare the difference in the two years by putting the data into an NDArray and running a differencial operation on it. The column to look for will be SLG.\n",
    "\n",
    "Your output should display which year (either 2017 or 2018) was a better year based on SLG"
   ]
  },
  {
   "cell_type": "code",
   "execution_count": 28,
   "metadata": {},
   "outputs": [],
   "source": [
    "import csv\n",
    "import numpy as np"
   ]
  },
  {
   "cell_type": "code",
   "execution_count": 42,
   "metadata": {},
   "outputs": [
    {
     "name": "stdout",
     "output_type": "stream",
     "text": [
      "Boston Red Sox had a higher overall SLG in 2018 than in 2017.\n",
      "In 2018 the team as a whole had a SLG of 0.454, while in 2017 it was only 0.408.\n"
     ]
    }
   ],
   "source": [
    "\"\"\"\n",
    "Example Result - Not the actual result\n",
    "Boston 18 had more SLG in 2018\n",
    "[0.404 0.443 0.392 0.403 0.482 0.424 0.402 0.459 0.429 0.354 0.387 0.333\n",
    " 0.539 0.243 0.262 0.354 0.342 0.339 0.328 0.306 0.222 0.2   1.   ]\n",
    "\"\"\"\n",
    "\n",
    "FIELDS = ['Rk', 'Pos', 'Name', 'Age', 'G', 'PA', 'AB', 'R', 'H', '2B', '3B', 'HR', 'RBI', 'SB', 'CS', \n",
    "          'BB', 'SO', 'BA', 'OBP', 'SLG', 'OPS', 'OPS+', 'TB', 'GDP', 'HBP', 'SH', 'SF', 'IBB']\n",
    "\n",
    "DATATYPES = [('rk', 'i'), ('pos', '|S25'), ('name', '|S25'), ('age', 'i'), ('g', 'i'), ('pa', 'i'), ('ab', 'i'),\n",
    "                ('r', 'i'), ('h', 'i'), ('2b', 'i'), ('3b', 'i'), ('hr', 'i'), ('rbi', 'i'), ('sb', 'i'), ('cs', 'i'),\n",
    "                ('bb', 'i'), ('so', 'i'), ('ba', 'f'), ('obp', 'f'), ('slg', 'f'), ('ops', 'f'), ('opsp', 'i'),\n",
    "                ('tb', 'i'), ('gdp', 'i'), ('hbp', 'i'), ('sh', 'i'), ('sf', 'i'), ('ibb', 'i')]\n",
    "\n",
    "# instead of loading csv normally, let's load it into a numpy array to calculate results on\n",
    "def load_data(filename, d = ','):\n",
    "    data = np.genfromtxt(filename, delimiter = d, skip_header = 1,\n",
    "                        usecols = np.arange(0,24), invalid_raise = False,\n",
    "                        names = FIELDS, dtype = DATATYPES)\n",
    "    return data\n",
    "\n",
    "rs_2017 = load_data('redsox_2017_hitting.txt')\n",
    "rs_2018 = load_data('redsox_2018_hitting.txt')\n",
    "\n",
    "slg_2017 = rs_2017['SLG']\n",
    "ab_2017 = rs_2017['AB']\n",
    "\n",
    "slg_2018 = rs_2018['SLG']\n",
    "ab_2018 = rs_2018['AB']\n",
    "\n",
    "total_run_points_2017 = slg_2017 * ab_2017\n",
    "overall_team_slg_2017 = sum(total_run_points_2017) / sum(ab_2017)\n",
    "\n",
    "total_run_points_2018 = slg_2018 * ab_2018\n",
    "overall_team_slg_2018 = sum(total_run_points_2018) / sum(ab_2018)\n",
    "\n",
    "if overall_team_slg_2017 > overall_team_slg_2018:\n",
    "    print(f'Boston Red Sox had a higher overall SLG in 2017 than in 2018.')\n",
    "    print(f'In 2017 the team as a whole had a SLG of {overall_team_slg_2017:.3f}, while in 2018 it was only {overall_team_slg_2018:.3f}.')\n",
    "else:\n",
    "    print(f'Boston Red Sox had a higher overall SLG in 2018 than in 2017.')\n",
    "    print(f'In 2018 the team as a whole had a SLG of {overall_team_slg_2018:.3f}, while in 2017 it was only {overall_team_slg_2017:.3f}.')\n",
    "\n"
   ]
  }
 ],
 "metadata": {
  "kernelspec": {
   "display_name": "Python 3",
   "language": "python",
   "name": "python3"
  },
  "language_info": {
   "codemirror_mode": {
    "name": "ipython",
    "version": 3
   },
   "file_extension": ".py",
   "mimetype": "text/x-python",
   "name": "python",
   "nbconvert_exporter": "python",
   "pygments_lexer": "ipython3",
   "version": "3.8.8"
  }
 },
 "nbformat": 4,
 "nbformat_minor": 2
}
